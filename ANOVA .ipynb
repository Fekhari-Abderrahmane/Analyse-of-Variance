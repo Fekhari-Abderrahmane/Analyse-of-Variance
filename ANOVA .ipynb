{
 "cells": [
  {
   "cell_type": "code",
   "execution_count": 7,
   "metadata": {},
   "outputs": [],
   "source": [
    "import pandas as pd"
   ]
  },
  {
   "cell_type": "code",
   "execution_count": 8,
   "metadata": {},
   "outputs": [],
   "source": [
    "d=pd.read_excel(\"C:/Users/Anonymous/Desktop/ANOVA Projet/BD_anova.xlsx\",head=1)\n"
   ]
  },
  {
   "cell_type": "code",
   "execution_count": 9,
   "metadata": {},
   "outputs": [
    {
     "data": {
      "text/html": [
       "<div>\n",
       "<style scoped>\n",
       "    .dataframe tbody tr th:only-of-type {\n",
       "        vertical-align: middle;\n",
       "    }\n",
       "\n",
       "    .dataframe tbody tr th {\n",
       "        vertical-align: top;\n",
       "    }\n",
       "\n",
       "    .dataframe thead th {\n",
       "        text-align: right;\n",
       "    }\n",
       "</style>\n",
       "<table border=\"1\" class=\"dataframe\">\n",
       "  <thead>\n",
       "    <tr style=\"text-align: right;\">\n",
       "      <th></th>\n",
       "      <th>Taux_de_participation_benevole</th>\n",
       "      <th>age</th>\n",
       "    </tr>\n",
       "  </thead>\n",
       "  <tbody>\n",
       "    <tr>\n",
       "      <th>0</th>\n",
       "      <td>6.2</td>\n",
       "      <td>De 0 à 25 ans</td>\n",
       "    </tr>\n",
       "    <tr>\n",
       "      <th>1</th>\n",
       "      <td>13.5</td>\n",
       "      <td>De 0 à 25 ans</td>\n",
       "    </tr>\n",
       "    <tr>\n",
       "      <th>2</th>\n",
       "      <td>7.5</td>\n",
       "      <td>De 0 à 25 ans</td>\n",
       "    </tr>\n",
       "    <tr>\n",
       "      <th>3</th>\n",
       "      <td>10.6</td>\n",
       "      <td>De 0 à 25 ans</td>\n",
       "    </tr>\n",
       "    <tr>\n",
       "      <th>4</th>\n",
       "      <td>9.3</td>\n",
       "      <td>De 0 à 25 ans</td>\n",
       "    </tr>\n",
       "  </tbody>\n",
       "</table>\n",
       "</div>"
      ],
      "text/plain": [
       "   Taux_de_participation_benevole            age\n",
       "0                             6.2  De 0 à 25 ans\n",
       "1                            13.5  De 0 à 25 ans\n",
       "2                             7.5  De 0 à 25 ans\n",
       "3                            10.6  De 0 à 25 ans\n",
       "4                             9.3  De 0 à 25 ans"
      ]
     },
     "execution_count": 9,
     "metadata": {},
     "output_type": "execute_result"
    }
   ],
   "source": [
    "d.head()"
   ]
  },
  {
   "cell_type": "code",
   "execution_count": 10,
   "metadata": {},
   "outputs": [],
   "source": [
    "import matplotlib as plt\n",
    "from matplotlib import pyplot\n",
    "import seaborn as sns"
   ]
  },
  {
   "cell_type": "code",
   "execution_count": 11,
   "metadata": {},
   "outputs": [
    {
     "data": {
      "text/plain": [
       "Taux_de_participation_benevole    float64\n",
       "age                                object\n",
       "dtype: object"
      ]
     },
     "execution_count": 11,
     "metadata": {},
     "output_type": "execute_result"
    }
   ],
   "source": [
    "d.dtypes"
   ]
  },
  {
   "cell_type": "code",
   "execution_count": 12,
   "metadata": {},
   "outputs": [
    {
     "data": {
      "text/plain": [
       "array(['De 0 à 25 ans', 'De 25 à 34 ans', 'De 35 à 44 ans',\n",
       "       'De 45 à 54 ans', 'De 55 à 64 ans', 'De 65 à 74 ans',\n",
       "       'De 75 ans et au dela'], dtype=object)"
      ]
     },
     "execution_count": 12,
     "metadata": {},
     "output_type": "execute_result"
    }
   ],
   "source": [
    "d[\"age\"].unique()"
   ]
  },
  {
   "cell_type": "code",
   "execution_count": 13,
   "metadata": {},
   "outputs": [],
   "source": [
    "# Recoding value from numeric to string\n",
    "d[\"age\"].replace({1: 'De 0 à 25 ans', 2: 'De 25 à 34 ans', 3: 'De 35 à 44 ans',4:'De 45 à 54 ans',5:'De 55 à 64 ans',6:'De 65 à 74 ans',7:'De 75 ans et au dela'}, inplace= True)\n",
    "    \n"
   ]
  },
  {
   "cell_type": "code",
   "execution_count": 14,
   "metadata": {},
   "outputs": [
    {
     "data": {
      "text/plain": [
       "<matplotlib.axes._subplots.AxesSubplot at 0xafe7cf8>"
      ]
     },
     "execution_count": 14,
     "metadata": {},
     "output_type": "execute_result"
    },
    {
     "data": {
      "image/png": "[encoded data removed]",
      "text/plain": [
       "<Figure size 432x288 with 1 Axes>"
      ]
     },
     "metadata": {
      "needs_background": "light"
     },
     "output_type": "display_data"
    }
   ],
   "source": [
    "sns.boxplot(x=\"age\",y='Taux_de_participation_benevole',data=d)"
   ]
  },
  {
   "cell_type": "code",
   "execution_count": 15,
   "metadata": {},
   "outputs": [
    {
     "data": {
      "text/html": [
       "<div>\n",
       "<style scoped>\n",
       "    .dataframe tbody tr th:only-of-type {\n",
       "        vertical-align: middle;\n",
       "    }\n",
       "\n",
       "    .dataframe tbody tr th {\n",
       "        vertical-align: top;\n",
       "    }\n",
       "\n",
       "    .dataframe thead th {\n",
       "        text-align: right;\n",
       "    }\n",
       "</style>\n",
       "<table border=\"1\" class=\"dataframe\">\n",
       "  <thead>\n",
       "    <tr style=\"text-align: right;\">\n",
       "      <th></th>\n",
       "      <th>Taux_de_participation_benevole</th>\n",
       "      <th>age</th>\n",
       "    </tr>\n",
       "  </thead>\n",
       "  <tbody>\n",
       "    <tr>\n",
       "      <th>0</th>\n",
       "      <td>6.2</td>\n",
       "      <td>De 0 à 25 ans</td>\n",
       "    </tr>\n",
       "    <tr>\n",
       "      <th>1</th>\n",
       "      <td>13.5</td>\n",
       "      <td>De 0 à 25 ans</td>\n",
       "    </tr>\n",
       "    <tr>\n",
       "      <th>2</th>\n",
       "      <td>7.5</td>\n",
       "      <td>De 0 à 25 ans</td>\n",
       "    </tr>\n",
       "    <tr>\n",
       "      <th>3</th>\n",
       "      <td>10.6</td>\n",
       "      <td>De 0 à 25 ans</td>\n",
       "    </tr>\n",
       "    <tr>\n",
       "      <th>4</th>\n",
       "      <td>9.3</td>\n",
       "      <td>De 0 à 25 ans</td>\n",
       "    </tr>\n",
       "  </tbody>\n",
       "</table>\n",
       "</div>"
      ],
      "text/plain": [
       "   Taux_de_participation_benevole            age\n",
       "0                             6.2  De 0 à 25 ans\n",
       "1                            13.5  De 0 à 25 ans\n",
       "2                             7.5  De 0 à 25 ans\n",
       "3                            10.6  De 0 à 25 ans\n",
       "4                             9.3  De 0 à 25 ans"
      ]
     },
     "execution_count": 15,
     "metadata": {},
     "output_type": "execute_result"
    }
   ],
   "source": [
    "d.head()"
   ]
  },
  {
   "cell_type": "code",
   "execution_count": 16,
   "metadata": {},
   "outputs": [
    {
     "name": "stdout",
     "output_type": "stream",
     "text": [
      "<class 'pandas.core.frame.DataFrame'>\n",
      "RangeIndex: 56 entries, 0 to 55\n",
      "Data columns (total 2 columns):\n",
      "Taux_de_participation_benevole    56 non-null float64\n",
      "age                               56 non-null object\n",
      "dtypes: float64(1), object(1)\n",
      "memory usage: 976.0+ bytes\n"
     ]
    },
    {
     "data": {
      "text/html": [
       "<div>\n",
       "<style scoped>\n",
       "    .dataframe tbody tr th:only-of-type {\n",
       "        vertical-align: middle;\n",
       "    }\n",
       "\n",
       "    .dataframe tbody tr th {\n",
       "        vertical-align: top;\n",
       "    }\n",
       "\n",
       "    .dataframe thead th {\n",
       "        text-align: right;\n",
       "    }\n",
       "</style>\n",
       "<table border=\"1\" class=\"dataframe\">\n",
       "  <thead>\n",
       "    <tr style=\"text-align: right;\">\n",
       "      <th></th>\n",
       "      <th>Taux_de_participation_benevole</th>\n",
       "    </tr>\n",
       "  </thead>\n",
       "  <tbody>\n",
       "    <tr>\n",
       "      <th>count</th>\n",
       "      <td>56.0000</td>\n",
       "    </tr>\n",
       "    <tr>\n",
       "      <th>mean</th>\n",
       "      <td>8.7000</td>\n",
       "    </tr>\n",
       "    <tr>\n",
       "      <th>std</th>\n",
       "      <td>4.6625</td>\n",
       "    </tr>\n",
       "    <tr>\n",
       "      <th>min</th>\n",
       "      <td>1.0000</td>\n",
       "    </tr>\n",
       "    <tr>\n",
       "      <th>25%</th>\n",
       "      <td>4.3250</td>\n",
       "    </tr>\n",
       "    <tr>\n",
       "      <th>50%</th>\n",
       "      <td>9.1000</td>\n",
       "    </tr>\n",
       "    <tr>\n",
       "      <th>75%</th>\n",
       "      <td>12.2250</td>\n",
       "    </tr>\n",
       "    <tr>\n",
       "      <th>max</th>\n",
       "      <td>18.3000</td>\n",
       "    </tr>\n",
       "  </tbody>\n",
       "</table>\n",
       "</div>"
      ],
      "text/plain": [
       "       Taux_de_participation_benevole\n",
       "count                         56.0000\n",
       "mean                           8.7000\n",
       "std                            4.6625\n",
       "min                            1.0000\n",
       "25%                            4.3250\n",
       "50%                            9.1000\n",
       "75%                           12.2250\n",
       "max                           18.3000"
      ]
     },
     "execution_count": 16,
     "metadata": {},
     "output_type": "execute_result"
    }
   ],
   "source": [
    "d.info()\n",
    "d.describe()"
   ]
  },
  {
   "cell_type": "code",
   "execution_count": 17,
   "metadata": {},
   "outputs": [
    {
     "data": {
      "text/html": [
       "<div>\n",
       "<style scoped>\n",
       "    .dataframe tbody tr th:only-of-type {\n",
       "        vertical-align: middle;\n",
       "    }\n",
       "\n",
       "    .dataframe tbody tr th {\n",
       "        vertical-align: top;\n",
       "    }\n",
       "\n",
       "    .dataframe thead th {\n",
       "        text-align: right;\n",
       "    }\n",
       "</style>\n",
       "<table border=\"1\" class=\"dataframe\">\n",
       "  <thead>\n",
       "    <tr style=\"text-align: right;\">\n",
       "      <th></th>\n",
       "      <th>count</th>\n",
       "      <th>mean</th>\n",
       "      <th>std</th>\n",
       "      <th>min</th>\n",
       "      <th>25%</th>\n",
       "      <th>50%</th>\n",
       "      <th>75%</th>\n",
       "      <th>max</th>\n",
       "    </tr>\n",
       "    <tr>\n",
       "      <th>age</th>\n",
       "      <th></th>\n",
       "      <th></th>\n",
       "      <th></th>\n",
       "      <th></th>\n",
       "      <th></th>\n",
       "      <th></th>\n",
       "      <th></th>\n",
       "      <th></th>\n",
       "    </tr>\n",
       "  </thead>\n",
       "  <tbody>\n",
       "    <tr>\n",
       "      <th>De 0 à 25 ans</th>\n",
       "      <td>8.0</td>\n",
       "      <td>8.0500</td>\n",
       "      <td>3.734396</td>\n",
       "      <td>1.7</td>\n",
       "      <td>5.900</td>\n",
       "      <td>8.40</td>\n",
       "      <td>10.600</td>\n",
       "      <td>13.5</td>\n",
       "    </tr>\n",
       "    <tr>\n",
       "      <th>De 25 à 34 ans</th>\n",
       "      <td>8.0</td>\n",
       "      <td>7.9750</td>\n",
       "      <td>4.176721</td>\n",
       "      <td>2.2</td>\n",
       "      <td>5.375</td>\n",
       "      <td>8.45</td>\n",
       "      <td>11.175</td>\n",
       "      <td>12.9</td>\n",
       "    </tr>\n",
       "    <tr>\n",
       "      <th>De 35 à 44 ans</th>\n",
       "      <td>8.0</td>\n",
       "      <td>8.1000</td>\n",
       "      <td>4.479477</td>\n",
       "      <td>1.0</td>\n",
       "      <td>6.125</td>\n",
       "      <td>8.00</td>\n",
       "      <td>9.925</td>\n",
       "      <td>15.0</td>\n",
       "    </tr>\n",
       "    <tr>\n",
       "      <th>De 45 à 54 ans</th>\n",
       "      <td>8.0</td>\n",
       "      <td>8.3250</td>\n",
       "      <td>4.246259</td>\n",
       "      <td>2.1</td>\n",
       "      <td>5.150</td>\n",
       "      <td>9.90</td>\n",
       "      <td>11.125</td>\n",
       "      <td>13.2</td>\n",
       "    </tr>\n",
       "    <tr>\n",
       "      <th>De 55 à 64 ans</th>\n",
       "      <td>8.0</td>\n",
       "      <td>10.4125</td>\n",
       "      <td>5.600112</td>\n",
       "      <td>2.5</td>\n",
       "      <td>7.075</td>\n",
       "      <td>11.25</td>\n",
       "      <td>14.600</td>\n",
       "      <td>17.2</td>\n",
       "    </tr>\n",
       "    <tr>\n",
       "      <th>De 65 à 74 ans</th>\n",
       "      <td>8.0</td>\n",
       "      <td>10.6875</td>\n",
       "      <td>6.048716</td>\n",
       "      <td>3.2</td>\n",
       "      <td>5.750</td>\n",
       "      <td>11.15</td>\n",
       "      <td>15.525</td>\n",
       "      <td>18.3</td>\n",
       "    </tr>\n",
       "    <tr>\n",
       "      <th>De 75 ans et au dela</th>\n",
       "      <td>8.0</td>\n",
       "      <td>7.3500</td>\n",
       "      <td>4.665374</td>\n",
       "      <td>1.0</td>\n",
       "      <td>3.575</td>\n",
       "      <td>7.30</td>\n",
       "      <td>11.675</td>\n",
       "      <td>12.6</td>\n",
       "    </tr>\n",
       "  </tbody>\n",
       "</table>\n",
       "</div>"
      ],
      "text/plain": [
       "                      count     mean       std  min    25%    50%     75%  \\\n",
       "age                                                                         \n",
       "De 0 à 25 ans           8.0   8.0500  3.734396  1.7  5.900   8.40  10.600   \n",
       "De 25 à 34 ans          8.0   7.9750  4.176721  2.2  5.375   8.45  11.175   \n",
       "De 35 à 44 ans          8.0   8.1000  4.479477  1.0  6.125   8.00   9.925   \n",
       "De 45 à 54 ans          8.0   8.3250  4.246259  2.1  5.150   9.90  11.125   \n",
       "De 55 à 64 ans          8.0  10.4125  5.600112  2.5  7.075  11.25  14.600   \n",
       "De 65 à 74 ans          8.0  10.6875  6.048716  3.2  5.750  11.15  15.525   \n",
       "De 75 ans et au dela    8.0   7.3500  4.665374  1.0  3.575   7.30  11.675   \n",
       "\n",
       "                       max  \n",
       "age                         \n",
       "De 0 à 25 ans         13.5  \n",
       "De 25 à 34 ans        12.9  \n",
       "De 35 à 44 ans        15.0  \n",
       "De 45 à 54 ans        13.2  \n",
       "De 55 à 64 ans        17.2  \n",
       "De 65 à 74 ans        18.3  \n",
       "De 75 ans et au dela  12.6  "
      ]
     },
     "execution_count": 17,
     "metadata": {},
     "output_type": "execute_result"
    }
   ],
   "source": [
    "d[\"Taux_de_participation_benevole\"].groupby(d[\"age\"]).describe()"
   ]
  },
  {
   "cell_type": "code",
   "execution_count": 18,
   "metadata": {},
   "outputs": [],
   "source": [
    "import statsmodels.api as sm\n",
    "from statsmodels.formula.api import ols"
   ]
  },
  {
   "cell_type": "code",
   "execution_count": 19,
   "metadata": {},
   "outputs": [
    {
     "data": {
      "text/html": [
       "<table class=\"simpletable\">\n",
       "<caption>OLS Regression Results</caption>\n",
       "<tr>\n",
       "  <th>Dep. Variable:</th>    <td>Taux_de_participation_benevole</td> <th>  R-squared:         </th> <td>   0.068</td>\n",
       "</tr>\n",
       "<tr>\n",
       "  <th>Model:</th>                          <td>OLS</td>              <th>  Adj. R-squared:    </th> <td>  -0.046</td>\n",
       "</tr>\n",
       "<tr>\n",
       "  <th>Method:</th>                    <td>Least Squares</td>         <th>  F-statistic:       </th> <td>  0.5953</td>\n",
       "</tr>\n",
       "<tr>\n",
       "  <th>Date:</th>                    <td>Tue, 18 Feb 2020</td>        <th>  Prob (F-statistic):</th>  <td> 0.733</td> \n",
       "</tr>\n",
       "<tr>\n",
       "  <th>Time:</th>                        <td>19:54:21</td>            <th>  Log-Likelihood:    </th> <td> -163.20</td>\n",
       "</tr>\n",
       "<tr>\n",
       "  <th>No. Observations:</th>             <td>    56</td>             <th>  AIC:               </th> <td>   340.4</td>\n",
       "</tr>\n",
       "<tr>\n",
       "  <th>Df Residuals:</th>                 <td>    49</td>             <th>  BIC:               </th> <td>   354.6</td>\n",
       "</tr>\n",
       "<tr>\n",
       "  <th>Df Model:</th>                     <td>     6</td>             <th>                     </th>     <td> </td>   \n",
       "</tr>\n",
       "<tr>\n",
       "  <th>Covariance Type:</th>             <td>nonrobust</td>           <th>                     </th>     <td> </td>   \n",
       "</tr>\n",
       "</table>\n",
       "<table class=\"simpletable\">\n",
       "<tr>\n",
       "                 <td></td>                   <th>coef</th>     <th>std err</th>      <th>t</th>      <th>P>|t|</th>  <th>[0.025</th>    <th>0.975]</th>  \n",
       "</tr>\n",
       "<tr>\n",
       "  <th>Intercept</th>                      <td>    8.0500</td> <td>    1.686</td> <td>    4.774</td> <td> 0.000</td> <td>    4.662</td> <td>   11.438</td>\n",
       "</tr>\n",
       "<tr>\n",
       "  <th>C(age)[T.De 25 à 34 ans]</th>       <td>   -0.0750</td> <td>    2.384</td> <td>   -0.031</td> <td> 0.975</td> <td>   -4.867</td> <td>    4.717</td>\n",
       "</tr>\n",
       "<tr>\n",
       "  <th>C(age)[T.De 35 à 44 ans]</th>       <td>    0.0500</td> <td>    2.384</td> <td>    0.021</td> <td> 0.983</td> <td>   -4.742</td> <td>    4.842</td>\n",
       "</tr>\n",
       "<tr>\n",
       "  <th>C(age)[T.De 45 à 54 ans]</th>       <td>    0.2750</td> <td>    2.384</td> <td>    0.115</td> <td> 0.909</td> <td>   -4.517</td> <td>    5.067</td>\n",
       "</tr>\n",
       "<tr>\n",
       "  <th>C(age)[T.De 55 à 64 ans]</th>       <td>    2.3625</td> <td>    2.384</td> <td>    0.991</td> <td> 0.327</td> <td>   -2.429</td> <td>    7.154</td>\n",
       "</tr>\n",
       "<tr>\n",
       "  <th>C(age)[T.De 65 à 74 ans]</th>       <td>    2.6375</td> <td>    2.384</td> <td>    1.106</td> <td> 0.274</td> <td>   -2.154</td> <td>    7.429</td>\n",
       "</tr>\n",
       "<tr>\n",
       "  <th>C(age)[T.De 75 ans et au dela]</th> <td>   -0.7000</td> <td>    2.384</td> <td>   -0.294</td> <td> 0.770</td> <td>   -5.492</td> <td>    4.092</td>\n",
       "</tr>\n",
       "</table>\n",
       "<table class=\"simpletable\">\n",
       "<tr>\n",
       "  <th>Omnibus:</th>       <td>16.368</td> <th>  Durbin-Watson:     </th> <td>   2.079</td>\n",
       "</tr>\n",
       "<tr>\n",
       "  <th>Prob(Omnibus):</th> <td> 0.000</td> <th>  Jarque-Bera (JB):  </th> <td>   3.909</td>\n",
       "</tr>\n",
       "<tr>\n",
       "  <th>Skew:</th>          <td>-0.199</td> <th>  Prob(JB):          </th> <td>   0.142</td>\n",
       "</tr>\n",
       "<tr>\n",
       "  <th>Kurtosis:</th>      <td> 1.768</td> <th>  Cond. No.          </th> <td>    7.87</td>\n",
       "</tr>\n",
       "</table><br/><br/>Warnings:<br/>[1] Standard Errors assume that the covariance matrix of the errors is correctly specified."
      ],
      "text/plain": [
       "<class 'statsmodels.iolib.summary.Summary'>\n",
       "\"\"\"\n",
       "                                  OLS Regression Results                                  \n",
       "==========================================================================================\n",
       "Dep. Variable:     Taux_de_participation_benevole   R-squared:                       0.068\n",
       "Model:                                        OLS   Adj. R-squared:                 -0.046\n",
       "Method:                             Least Squares   F-statistic:                    0.5953\n",
       "Date:                            Tue, 18 Feb 2020   Prob (F-statistic):              0.733\n",
       "Time:                                    19:54:21   Log-Likelihood:                -163.20\n",
       "No. Observations:                              56   AIC:                             340.4\n",
       "Df Residuals:                                  49   BIC:                             354.6\n",
       "Df Model:                                       6                                         \n",
       "Covariance Type:                        nonrobust                                         \n",
       "==================================================================================================\n",
       "                                     coef    std err          t      P>|t|      [0.025      0.975]\n",
       "--------------------------------------------------------------------------------------------------\n",
       "Intercept                          8.0500      1.686      4.774      0.000       4.662      11.438\n",
       "C(age)[T.De 25 à 34 ans]          -0.0750      2.384     -0.031      0.975      -4.867       4.717\n",
       "C(age)[T.De 35 à 44 ans]           0.0500      2.384      0.021      0.983      -4.742       4.842\n",
       "C(age)[T.De 45 à 54 ans]           0.2750      2.384      0.115      0.909      -4.517       5.067\n",
       "C(age)[T.De 55 à 64 ans]           2.3625      2.384      0.991      0.327      -2.429       7.154\n",
       "C(age)[T.De 65 à 74 ans]           2.6375      2.384      1.106      0.274      -2.154       7.429\n",
       "C(age)[T.De 75 ans et au dela]    -0.7000      2.384     -0.294      0.770      -5.492       4.092\n",
       "==============================================================================\n",
       "Omnibus:                       16.368   Durbin-Watson:                   2.079\n",
       "Prob(Omnibus):                  0.000   Jarque-Bera (JB):                3.909\n",
       "Skew:                          -0.199   Prob(JB):                        0.142\n",
       "Kurtosis:                       1.768   Cond. No.                         7.87\n",
       "==============================================================================\n",
       "\n",
       "Warnings:\n",
       "[1] Standard Errors assume that the covariance matrix of the errors is correctly specified.\n",
       "\"\"\""
      ]
     },
     "execution_count": 19,
     "metadata": {},
     "output_type": "execute_result"
    }
   ],
   "source": [
    "results=ols('Taux_de_participation_benevole ~ C(age)',data=d).fit()\n",
    "results.summary()"
   ]
  },
  {
   "cell_type": "code",
   "execution_count": 65,
   "metadata": {},
   "outputs": [
    {
     "name": "stdout",
     "output_type": "stream",
     "text": [
      "             df       sum_sq    mean_sq         F    PR(>F)\n",
      "C(age)      6.0   484.415811  80.735968  3.440453  0.002523\n",
      "Residual  399.0  9363.200045  23.466667       NaN       NaN\n"
     ]
    }
   ],
   "source": [
    "table = sm.stats.anova_lm(results)\n",
    "print(table)"
   ]
  },
  {
   "cell_type": "code",
   "execution_count": 128,
   "metadata": {},
   "outputs": [
    {
     "data": {
      "text/plain": [
       "0.0025233652809940883"
      ]
     },
     "execution_count": 128,
     "metadata": {},
     "output_type": "execute_result"
    }
   ],
   "source": [
    "Fisher_p_value = table['PR(>F)']['C(age)']\n",
    "\n"
   ]
  },
  {
   "cell_type": "code",
   "execution_count": 20,
   "metadata": {},
   "outputs": [],
   "source": [
    "import scipy as misc\n",
    "from scipy.stats import levene"
   ]
  },
  {
   "cell_type": "code",
   "execution_count": 21,
   "metadata": {},
   "outputs": [],
   "source": [
    "from random import seed\n",
    "from random import gauss\n",
    "import statistics\n",
    "import numpy as np"
   ]
  },
  {
   "cell_type": "code",
   "execution_count": 22,
   "metadata": {},
   "outputs": [
    {
     "data": {
      "text/plain": [
       "7.473392506444881"
      ]
     },
     "execution_count": 22,
     "metadata": {},
     "output_type": "execute_result"
    }
   ],
   "source": [
    "##add first random\n",
    "s=np.random.normal(8.05,3.73,50)\n",
    "s\n",
    "statistics.mean(s)\n"
   ]
  },
  {
   "cell_type": "code",
   "execution_count": 23,
   "metadata": {},
   "outputs": [],
   "source": [
    "for i in s:\n",
    "    d=d.append({'Taux_de_participation_benevole':i, 'age':\"De 0 à 25 ans\"}, ignore_index=True)"
   ]
  },
  {
   "cell_type": "code",
   "execution_count": 24,
   "metadata": {},
   "outputs": [
    {
     "data": {
      "text/plain": [
       "7.073757282997791"
      ]
     },
     "execution_count": 24,
     "metadata": {},
     "output_type": "execute_result"
    }
   ],
   "source": [
    "##add second\n",
    "h=np.random.normal(7.975,4.176,50)\n",
    "statistics.mean(h)\n",
    "\n",
    "    "
   ]
  },
  {
   "cell_type": "code",
   "execution_count": 25,
   "metadata": {},
   "outputs": [],
   "source": [
    "for i in h:\n",
    "    d=d.append({'Taux_de_participation_benevole':i, 'age':\"De 25 à 34 ans\"}, ignore_index=True)\n"
   ]
  },
  {
   "cell_type": "code",
   "execution_count": 26,
   "metadata": {},
   "outputs": [
    {
     "data": {
      "text/plain": [
       "7.897603998995036"
      ]
     },
     "execution_count": 26,
     "metadata": {},
     "output_type": "execute_result"
    }
   ],
   "source": [
    "##add s3\n",
    "z=np.random.normal(8.100,4.479,50)\n",
    "statistics.mean(z)\n",
    "    "
   ]
  },
  {
   "cell_type": "code",
   "execution_count": 27,
   "metadata": {},
   "outputs": [],
   "source": [
    "\n",
    "for i in z:\n",
    "    d=d.append({'Taux_de_participation_benevole':i, 'age':\"De 35 à 44 ans\"}, ignore_index=True)\n"
   ]
  },
  {
   "cell_type": "code",
   "execution_count": 28,
   "metadata": {},
   "outputs": [
    {
     "data": {
      "text/plain": [
       "8.570381414643151"
      ]
     },
     "execution_count": 28,
     "metadata": {},
     "output_type": "execute_result"
    }
   ],
   "source": [
    "##add 4\n",
    "w=np.random.normal(8.32,4.24,50)\n",
    "statistics.mean(w)\n"
   ]
  },
  {
   "cell_type": "code",
   "execution_count": 29,
   "metadata": {},
   "outputs": [],
   "source": [
    "\n",
    "for i in w:\n",
    "    d=d.append({'Taux_de_participation_benevole':i, 'age':\"De 45 à 54 ans\"}, ignore_index=True)\n"
   ]
  },
  {
   "cell_type": "code",
   "execution_count": 30,
   "metadata": {},
   "outputs": [
    {
     "data": {
      "text/plain": [
       "9.11976046428999"
      ]
     },
     "execution_count": 30,
     "metadata": {},
     "output_type": "execute_result"
    }
   ],
   "source": [
    "##add s5\n",
    "m=np.random.normal(10.410,5.6,50)\n",
    "statistics.mean(m)\n",
    "\n"
   ]
  },
  {
   "cell_type": "code",
   "execution_count": 31,
   "metadata": {},
   "outputs": [],
   "source": [
    "for i in m:\n",
    "    d=d.append({'Taux_de_participation_benevole':i, 'age':\"De 55 à 64 ans\"}, ignore_index=True)"
   ]
  },
  {
   "cell_type": "code",
   "execution_count": 32,
   "metadata": {},
   "outputs": [
    {
     "data": {
      "text/plain": [
       "10.688186361605094"
      ]
     },
     "execution_count": 32,
     "metadata": {},
     "output_type": "execute_result"
    }
   ],
   "source": [
    "##add s6\n",
    "b=np.random.normal(10.68,6.04,50)\n",
    "statistics.mean(b)\n"
   ]
  },
  {
   "cell_type": "code",
   "execution_count": 33,
   "metadata": {},
   "outputs": [],
   "source": [
    "\n",
    "for i in b:\n",
    "    d=d.append({'Taux_de_participation_benevole':i, 'age':\"De 65 à 74 ans\"}, ignore_index=True)"
   ]
  },
  {
   "cell_type": "code",
   "execution_count": 34,
   "metadata": {},
   "outputs": [
    {
     "data": {
      "text/plain": [
       "8.851555130167625"
      ]
     },
     "execution_count": 34,
     "metadata": {},
     "output_type": "execute_result"
    }
   ],
   "source": [
    "##add s7\n",
    "q=np.random.normal(7.35,4.66,50)\n",
    "statistics.mean(q)\n",
    "\n"
   ]
  },
  {
   "cell_type": "code",
   "execution_count": 35,
   "metadata": {},
   "outputs": [],
   "source": [
    "for i in q:\n",
    "    d=d.append({'Taux_de_participation_benevole':i, 'age':\"De 75 ans et au dela\"}, ignore_index=True)"
   ]
  },
  {
   "cell_type": "code",
   "execution_count": 36,
   "metadata": {
    "scrolled": true
   },
   "outputs": [
    {
     "name": "stdout",
     "output_type": "stream",
     "text": [
      "<class 'pandas.core.frame.DataFrame'>\n",
      "RangeIndex: 406 entries, 0 to 405\n",
      "Data columns (total 2 columns):\n",
      "Taux_de_participation_benevole    406 non-null float64\n",
      "age                               406 non-null object\n",
      "dtypes: float64(1), object(1)\n",
      "memory usage: 6.4+ KB\n"
     ]
    },
    {
     "data": {
      "text/html": [
       "<div>\n",
       "<style scoped>\n",
       "    .dataframe tbody tr th:only-of-type {\n",
       "        vertical-align: middle;\n",
       "    }\n",
       "\n",
       "    .dataframe tbody tr th {\n",
       "        vertical-align: top;\n",
       "    }\n",
       "\n",
       "    .dataframe thead th {\n",
       "        text-align: right;\n",
       "    }\n",
       "</style>\n",
       "<table border=\"1\" class=\"dataframe\">\n",
       "  <thead>\n",
       "    <tr style=\"text-align: right;\">\n",
       "      <th></th>\n",
       "      <th>Taux_de_participation_benevole</th>\n",
       "    </tr>\n",
       "  </thead>\n",
       "  <tbody>\n",
       "    <tr>\n",
       "      <th>count</th>\n",
       "      <td>406.000000</td>\n",
       "    </tr>\n",
       "    <tr>\n",
       "      <th>mean</th>\n",
       "      <td>8.549093</td>\n",
       "    </tr>\n",
       "    <tr>\n",
       "      <th>std</th>\n",
       "      <td>4.931034</td>\n",
       "    </tr>\n",
       "    <tr>\n",
       "      <th>min</th>\n",
       "      <td>-4.227551</td>\n",
       "    </tr>\n",
       "    <tr>\n",
       "      <th>25%</th>\n",
       "      <td>5.288550</td>\n",
       "    </tr>\n",
       "    <tr>\n",
       "      <th>50%</th>\n",
       "      <td>8.321013</td>\n",
       "    </tr>\n",
       "    <tr>\n",
       "      <th>75%</th>\n",
       "      <td>11.683660</td>\n",
       "    </tr>\n",
       "    <tr>\n",
       "      <th>max</th>\n",
       "      <td>26.163855</td>\n",
       "    </tr>\n",
       "  </tbody>\n",
       "</table>\n",
       "</div>"
      ],
      "text/plain": [
       "       Taux_de_participation_benevole\n",
       "count                      406.000000\n",
       "mean                         8.549093\n",
       "std                          4.931034\n",
       "min                         -4.227551\n",
       "25%                          5.288550\n",
       "50%                          8.321013\n",
       "75%                         11.683660\n",
       "max                         26.163855"
      ]
     },
     "execution_count": 36,
     "metadata": {},
     "output_type": "execute_result"
    }
   ],
   "source": [
    "d.info()\n",
    "d.describe()"
   ]
  },
  {
   "cell_type": "code",
   "execution_count": 37,
   "metadata": {},
   "outputs": [
    {
     "data": {
      "text/html": [
       "<div>\n",
       "<style scoped>\n",
       "    .dataframe tbody tr th:only-of-type {\n",
       "        vertical-align: middle;\n",
       "    }\n",
       "\n",
       "    .dataframe tbody tr th {\n",
       "        vertical-align: top;\n",
       "    }\n",
       "\n",
       "    .dataframe thead th {\n",
       "        text-align: right;\n",
       "    }\n",
       "</style>\n",
       "<table border=\"1\" class=\"dataframe\">\n",
       "  <thead>\n",
       "    <tr style=\"text-align: right;\">\n",
       "      <th></th>\n",
       "      <th>count</th>\n",
       "      <th>mean</th>\n",
       "      <th>std</th>\n",
       "      <th>min</th>\n",
       "      <th>25%</th>\n",
       "      <th>50%</th>\n",
       "      <th>75%</th>\n",
       "      <th>max</th>\n",
       "    </tr>\n",
       "    <tr>\n",
       "      <th>age</th>\n",
       "      <th></th>\n",
       "      <th></th>\n",
       "      <th></th>\n",
       "      <th></th>\n",
       "      <th></th>\n",
       "      <th></th>\n",
       "      <th></th>\n",
       "      <th></th>\n",
       "    </tr>\n",
       "  </thead>\n",
       "  <tbody>\n",
       "    <tr>\n",
       "      <th>De 0 à 25 ans</th>\n",
       "      <td>58.0</td>\n",
       "      <td>7.552925</td>\n",
       "      <td>3.697068</td>\n",
       "      <td>0.394810</td>\n",
       "      <td>5.011218</td>\n",
       "      <td>7.036624</td>\n",
       "      <td>10.193859</td>\n",
       "      <td>16.463809</td>\n",
       "    </tr>\n",
       "    <tr>\n",
       "      <th>De 25 à 34 ans</th>\n",
       "      <td>58.0</td>\n",
       "      <td>7.198067</td>\n",
       "      <td>3.948242</td>\n",
       "      <td>-3.733898</td>\n",
       "      <td>4.977564</td>\n",
       "      <td>7.261692</td>\n",
       "      <td>10.345215</td>\n",
       "      <td>15.177848</td>\n",
       "    </tr>\n",
       "    <tr>\n",
       "      <th>De 35 à 44 ans</th>\n",
       "      <td>58.0</td>\n",
       "      <td>7.925521</td>\n",
       "      <td>4.245839</td>\n",
       "      <td>-2.805482</td>\n",
       "      <td>5.161479</td>\n",
       "      <td>7.808239</td>\n",
       "      <td>10.148017</td>\n",
       "      <td>15.818486</td>\n",
       "    </tr>\n",
       "    <tr>\n",
       "      <th>De 45 à 54 ans</th>\n",
       "      <td>58.0</td>\n",
       "      <td>8.536536</td>\n",
       "      <td>4.198640</td>\n",
       "      <td>-1.798763</td>\n",
       "      <td>5.812162</td>\n",
       "      <td>8.585963</td>\n",
       "      <td>11.387543</td>\n",
       "      <td>18.010619</td>\n",
       "    </tr>\n",
       "    <tr>\n",
       "      <th>De 55 à 64 ans</th>\n",
       "      <td>58.0</td>\n",
       "      <td>9.298069</td>\n",
       "      <td>5.235971</td>\n",
       "      <td>-1.022157</td>\n",
       "      <td>5.747046</td>\n",
       "      <td>9.340936</td>\n",
       "      <td>13.535080</td>\n",
       "      <td>22.025691</td>\n",
       "    </tr>\n",
       "    <tr>\n",
       "      <th>De 65 à 74 ans</th>\n",
       "      <td>58.0</td>\n",
       "      <td>10.688092</td>\n",
       "      <td>6.541890</td>\n",
       "      <td>-3.588544</td>\n",
       "      <td>6.489183</td>\n",
       "      <td>11.264900</td>\n",
       "      <td>15.445864</td>\n",
       "      <td>26.163855</td>\n",
       "    </tr>\n",
       "    <tr>\n",
       "      <th>De 75 ans et au dela</th>\n",
       "      <td>58.0</td>\n",
       "      <td>8.644444</td>\n",
       "      <td>5.398361</td>\n",
       "      <td>-4.227551</td>\n",
       "      <td>5.231200</td>\n",
       "      <td>9.174055</td>\n",
       "      <td>11.629598</td>\n",
       "      <td>23.420954</td>\n",
       "    </tr>\n",
       "  </tbody>\n",
       "</table>\n",
       "</div>"
      ],
      "text/plain": [
       "                      count       mean       std       min       25%  \\\n",
       "age                                                                    \n",
       "De 0 à 25 ans          58.0   7.552925  3.697068  0.394810  5.011218   \n",
       "De 25 à 34 ans         58.0   7.198067  3.948242 -3.733898  4.977564   \n",
       "De 35 à 44 ans         58.0   7.925521  4.245839 -2.805482  5.161479   \n",
       "De 45 à 54 ans         58.0   8.536536  4.198640 -1.798763  5.812162   \n",
       "De 55 à 64 ans         58.0   9.298069  5.235971 -1.022157  5.747046   \n",
       "De 65 à 74 ans         58.0  10.688092  6.541890 -3.588544  6.489183   \n",
       "De 75 ans et au dela   58.0   8.644444  5.398361 -4.227551  5.231200   \n",
       "\n",
       "                            50%        75%        max  \n",
       "age                                                    \n",
       "De 0 à 25 ans          7.036624  10.193859  16.463809  \n",
       "De 25 à 34 ans         7.261692  10.345215  15.177848  \n",
       "De 35 à 44 ans         7.808239  10.148017  15.818486  \n",
       "De 45 à 54 ans         8.585963  11.387543  18.010619  \n",
       "De 55 à 64 ans         9.340936  13.535080  22.025691  \n",
       "De 65 à 74 ans        11.264900  15.445864  26.163855  \n",
       "De 75 ans et au dela   9.174055  11.629598  23.420954  "
      ]
     },
     "execution_count": 37,
     "metadata": {},
     "output_type": "execute_result"
    }
   ],
   "source": [
    "d[\"Taux_de_participation_benevole\"].groupby(d[\"age\"]).describe()"
   ]
  },
  {
   "cell_type": "code",
   "execution_count": 38,
   "metadata": {},
   "outputs": [
    {
     "data": {
      "text/html": [
       "<table class=\"simpletable\">\n",
       "<caption>OLS Regression Results</caption>\n",
       "<tr>\n",
       "  <th>Dep. Variable:</th>    <td>Taux_de_participation_benevole</td> <th>  R-squared:         </th> <td>   0.049</td>\n",
       "</tr>\n",
       "<tr>\n",
       "  <th>Model:</th>                          <td>OLS</td>              <th>  Adj. R-squared:    </th> <td>   0.035</td>\n",
       "</tr>\n",
       "<tr>\n",
       "  <th>Method:</th>                    <td>Least Squares</td>         <th>  F-statistic:       </th> <td>   3.440</td>\n",
       "</tr>\n",
       "<tr>\n",
       "  <th>Date:</th>                    <td>Tue, 18 Feb 2020</td>        <th>  Prob (F-statistic):</th>  <td>0.00252</td>\n",
       "</tr>\n",
       "<tr>\n",
       "  <th>Time:</th>                        <td>19:54:24</td>            <th>  Log-Likelihood:    </th> <td> -1213.1</td>\n",
       "</tr>\n",
       "<tr>\n",
       "  <th>No. Observations:</th>             <td>   406</td>             <th>  AIC:               </th> <td>   2440.</td>\n",
       "</tr>\n",
       "<tr>\n",
       "  <th>Df Residuals:</th>                 <td>   399</td>             <th>  BIC:               </th> <td>   2468.</td>\n",
       "</tr>\n",
       "<tr>\n",
       "  <th>Df Model:</th>                     <td>     6</td>             <th>                     </th>     <td> </td>   \n",
       "</tr>\n",
       "<tr>\n",
       "  <th>Covariance Type:</th>             <td>nonrobust</td>           <th>                     </th>     <td> </td>   \n",
       "</tr>\n",
       "</table>\n",
       "<table class=\"simpletable\">\n",
       "<tr>\n",
       "                 <td></td>                   <th>coef</th>     <th>std err</th>      <th>t</th>      <th>P>|t|</th>  <th>[0.025</th>    <th>0.975]</th>  \n",
       "</tr>\n",
       "<tr>\n",
       "  <th>Intercept</th>                      <td>    7.5529</td> <td>    0.636</td> <td>   11.874</td> <td> 0.000</td> <td>    6.302</td> <td>    8.803</td>\n",
       "</tr>\n",
       "<tr>\n",
       "  <th>C(age)[T.De 25 à 34 ans]</th>       <td>   -0.3549</td> <td>    0.900</td> <td>   -0.394</td> <td> 0.693</td> <td>   -2.123</td> <td>    1.414</td>\n",
       "</tr>\n",
       "<tr>\n",
       "  <th>C(age)[T.De 35 à 44 ans]</th>       <td>    0.3726</td> <td>    0.900</td> <td>    0.414</td> <td> 0.679</td> <td>   -1.396</td> <td>    2.141</td>\n",
       "</tr>\n",
       "<tr>\n",
       "  <th>C(age)[T.De 45 à 54 ans]</th>       <td>    0.9836</td> <td>    0.900</td> <td>    1.093</td> <td> 0.275</td> <td>   -0.785</td> <td>    2.752</td>\n",
       "</tr>\n",
       "<tr>\n",
       "  <th>C(age)[T.De 55 à 64 ans]</th>       <td>    1.7451</td> <td>    0.900</td> <td>    1.940</td> <td> 0.053</td> <td>   -0.023</td> <td>    3.514</td>\n",
       "</tr>\n",
       "<tr>\n",
       "  <th>C(age)[T.De 65 à 74 ans]</th>       <td>    3.1352</td> <td>    0.900</td> <td>    3.485</td> <td> 0.001</td> <td>    1.367</td> <td>    4.904</td>\n",
       "</tr>\n",
       "<tr>\n",
       "  <th>C(age)[T.De 75 ans et au dela]</th> <td>    1.0915</td> <td>    0.900</td> <td>    1.213</td> <td> 0.226</td> <td>   -0.677</td> <td>    2.860</td>\n",
       "</tr>\n",
       "</table>\n",
       "<table class=\"simpletable\">\n",
       "<tr>\n",
       "  <th>Omnibus:</th>       <td> 1.530</td> <th>  Durbin-Watson:     </th> <td>   1.960</td>\n",
       "</tr>\n",
       "<tr>\n",
       "  <th>Prob(Omnibus):</th> <td> 0.465</td> <th>  Jarque-Bera (JB):  </th> <td>   1.379</td>\n",
       "</tr>\n",
       "<tr>\n",
       "  <th>Skew:</th>          <td>-0.001</td> <th>  Prob(JB):          </th> <td>   0.502</td>\n",
       "</tr>\n",
       "<tr>\n",
       "  <th>Kurtosis:</th>      <td> 3.286</td> <th>  Cond. No.          </th> <td>    7.87</td>\n",
       "</tr>\n",
       "</table><br/><br/>Warnings:<br/>[1] Standard Errors assume that the covariance matrix of the errors is correctly specified."
      ],
      "text/plain": [
       "<class 'statsmodels.iolib.summary.Summary'>\n",
       "\"\"\"\n",
       "                                  OLS Regression Results                                  \n",
       "==========================================================================================\n",
       "Dep. Variable:     Taux_de_participation_benevole   R-squared:                       0.049\n",
       "Model:                                        OLS   Adj. R-squared:                  0.035\n",
       "Method:                             Least Squares   F-statistic:                     3.440\n",
       "Date:                            Tue, 18 Feb 2020   Prob (F-statistic):            0.00252\n",
       "Time:                                    19:54:24   Log-Likelihood:                -1213.1\n",
       "No. Observations:                             406   AIC:                             2440.\n",
       "Df Residuals:                                 399   BIC:                             2468.\n",
       "Df Model:                                       6                                         \n",
       "Covariance Type:                        nonrobust                                         \n",
       "==================================================================================================\n",
       "                                     coef    std err          t      P>|t|      [0.025      0.975]\n",
       "--------------------------------------------------------------------------------------------------\n",
       "Intercept                          7.5529      0.636     11.874      0.000       6.302       8.803\n",
       "C(age)[T.De 25 à 34 ans]          -0.3549      0.900     -0.394      0.693      -2.123       1.414\n",
       "C(age)[T.De 35 à 44 ans]           0.3726      0.900      0.414      0.679      -1.396       2.141\n",
       "C(age)[T.De 45 à 54 ans]           0.9836      0.900      1.093      0.275      -0.785       2.752\n",
       "C(age)[T.De 55 à 64 ans]           1.7451      0.900      1.940      0.053      -0.023       3.514\n",
       "C(age)[T.De 65 à 74 ans]           3.1352      0.900      3.485      0.001       1.367       4.904\n",
       "C(age)[T.De 75 ans et au dela]     1.0915      0.900      1.213      0.226      -0.677       2.860\n",
       "==============================================================================\n",
       "Omnibus:                        1.530   Durbin-Watson:                   1.960\n",
       "Prob(Omnibus):                  0.465   Jarque-Bera (JB):                1.379\n",
       "Skew:                          -0.001   Prob(JB):                        0.502\n",
       "Kurtosis:                       3.286   Cond. No.                         7.87\n",
       "==============================================================================\n",
       "\n",
       "Warnings:\n",
       "[1] Standard Errors assume that the covariance matrix of the errors is correctly specified.\n",
       "\"\"\""
      ]
     },
     "execution_count": 38,
     "metadata": {},
     "output_type": "execute_result"
    }
   ],
   "source": [
    "results=ols('Taux_de_participation_benevole ~ C(age)',data=d).fit()\n",
    "results.summary()"
   ]
  },
  {
   "cell_type": "code",
   "execution_count": 56,
   "metadata": {},
   "outputs": [
    {
     "ename": "AttributeError",
     "evalue": "'Summary' object has no attribute 'AIC'",
     "output_type": "error",
     "traceback": [
      "\u001b[1;31m---------------------------------------------------------------------------\u001b[0m",
      "\u001b[1;31mAttributeError\u001b[0m                            Traceback (most recent call last)",
      "\u001b[1;32m<ipython-input-56-5b3ec00a89b0>\u001b[0m in \u001b[0;36m<module>\u001b[1;34m\u001b[0m\n\u001b[1;32m----> 1\u001b[1;33m \u001b[0mx\u001b[0m\u001b[1;33m=\u001b[0m\u001b[0mresults\u001b[0m\u001b[1;33m.\u001b[0m\u001b[0msummary\u001b[0m\u001b[1;33m(\u001b[0m\u001b[1;33m)\u001b[0m\u001b[1;33m.\u001b[0m\u001b[0mAIC\u001b[0m\u001b[1;33m\u001b[0m\u001b[1;33m\u001b[0m\u001b[0m\n\u001b[0m\u001b[0;32m      2\u001b[0m \u001b[0mprint\u001b[0m\u001b[1;33m(\u001b[0m\u001b[0mx\u001b[0m\u001b[1;33m)\u001b[0m\u001b[1;33m\u001b[0m\u001b[1;33m\u001b[0m\u001b[0m\n",
      "\u001b[1;31mAttributeError\u001b[0m: 'Summary' object has no attribute 'AIC'"
     ]
    }
   ],
   "source": [
    "x=results.summary().AIC\n",
    "print(x)"
   ]
  },
  {
   "cell_type": "code",
   "execution_count": 39,
   "metadata": {},
   "outputs": [],
   "source": [
    "# d.to_excel(\"C:/Users/Anonymous/Desktop/BB.xlsx\")"
   ]
  },
  {
   "cell_type": "code",
   "execution_count": 60,
   "metadata": {},
   "outputs": [],
   "source": [
    "for i in range(1,100):\n",
    "    new_data=pd.read_excel(\"C:/Users/Anonymous/Desktop/ANOVA Projet/BD_anova.xlsx\",head=1)\n",
    "    "
   ]
  }
 ],
 "metadata": {
  "kernelspec": {
   "display_name": "Python 3",
   "language": "python",
   "name": "python3"
  },
  "language_info": {
   "codemirror_mode": {
    "name": "ipython",
    "version": 3
   },
   "file_extension": ".py",
   "mimetype": "text/x-python",
   "name": "python",
   "nbconvert_exporter": "python",
   "pygments_lexer": "ipython3",
   "version": "3.7.1"
  }
 },
 "nbformat": 4,
 "nbformat_minor": 2
}
